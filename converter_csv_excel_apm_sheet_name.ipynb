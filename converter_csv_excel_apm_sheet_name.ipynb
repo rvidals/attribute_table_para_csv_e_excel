{
 "cells": [
  {
   "cell_type": "code",
   "execution_count": 1,
   "metadata": {},
   "outputs": [],
   "source": [
    "import os\n",
    "import glob\n",
    "import pandas as pd"
   ]
  },
  {
   "cell_type": "code",
   "execution_count": 2,
   "metadata": {},
   "outputs": [],
   "source": [
    "\"\"\"\n",
    "Importante: Os diretórios, in e out são baseados no mapeamento da máquina onde estão os dados!\n",
    "Caso queira adaptar, é importante verificar a possibilidade de mudar essas variáveis e o código abaixo\n",
    "de mudança de pasta. \n",
    "\"\"\"\n",
    "os.chdir('../..') #Retorna duas bastas."
   ]
  },
  {
   "cell_type": "code",
   "execution_count": 3,
   "metadata": {},
   "outputs": [],
   "source": [
    "path_in = os.path.join(os.getcwd(),r'DADOS\\TAB')"
   ]
  },
  {
   "cell_type": "code",
   "execution_count": 4,
   "metadata": {},
   "outputs": [],
   "source": [
    "path_out = os.path.join(os.getcwd(),r'RESULTADOS\\TAB')"
   ]
  },
  {
   "cell_type": "code",
   "execution_count": 5,
   "metadata": {},
   "outputs": [],
   "source": [
    "files = glob.glob(path_in + '\\*.csv')"
   ]
  },
  {
   "cell_type": "code",
   "execution_count": 6,
   "metadata": {},
   "outputs": [],
   "source": [
    "for file in files:\n",
    "    bsname = os.path.basename(file).split('.')[0]\n",
    "    nm_arquivo = 'UsoOcupacao' + bsname[17:]\n",
    "\n",
    "    df = pd.read_table(file, sep=';')\n",
    "    \n",
    "    df = df.rename({\n",
    "                    'Area (m²)':'Área (m²)'\n",
    "                   },\n",
    "            axis='columns'\n",
    "        )\n",
    "\n",
    "    apms = df['Nome'].unique().tolist()\n",
    "    \n",
    "    with pd.ExcelWriter(path_out + f'/{nm_arquivo}.xlsx') as write:\n",
    "        for apm in apms:\n",
    "            df[df.Nome == apm].to_excel(write, \n",
    "                                        sheet_name=apm.split(' - ')[1],\n",
    "                                        index=False\n",
    "                                        )\n"
   ]
  }
 ],
 "metadata": {
  "kernelspec": {
   "display_name": "geo_py39",
   "language": "python",
   "name": "python3"
  },
  "language_info": {
   "codemirror_mode": {
    "name": "ipython",
    "version": 3
   },
   "file_extension": ".py",
   "mimetype": "text/x-python",
   "name": "python",
   "nbconvert_exporter": "python",
   "pygments_lexer": "ipython3",
   "version": "3.9.16"
  },
  "orig_nbformat": 4
 },
 "nbformat": 4,
 "nbformat_minor": 2
}
