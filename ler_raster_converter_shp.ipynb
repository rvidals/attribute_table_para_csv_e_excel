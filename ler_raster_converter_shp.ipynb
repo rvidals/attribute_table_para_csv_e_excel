{
 "cells": [
  {
   "cell_type": "code",
   "execution_count": 32,
   "metadata": {},
   "outputs": [],
   "source": [
    "import os\n",
    "import glob\n",
    "import rasterio\n",
    "import rioxarray as rx\n",
    "import numpy as np\n",
    "import geopandas as gpd\n",
    "from multiprocessing import Pool, cpu_count\n",
    "from shapely.ops import unary_union"
   ]
  },
  {
   "cell_type": "code",
   "execution_count": 8,
   "metadata": {},
   "outputs": [],
   "source": [
    "os.chdir('../..')"
   ]
  },
  {
   "cell_type": "code",
   "execution_count": 13,
   "metadata": {},
   "outputs": [],
   "source": [
    "os.chdir('DADOS\\TIF\\CORRECAO PROFLORA - ANOS PRIORITARIOS')"
   ]
  },
  {
   "cell_type": "code",
   "execution_count": 14,
   "metadata": {},
   "outputs": [
    {
     "data": {
      "text/plain": [
       "'c:\\\\Users\\\\rogerio.siqueira\\\\Documents\\\\DEMANDAS_ROGERIO\\\\APM\\\\DADOS\\\\TIF\\\\CORRECAO PROFLORA - ANOS PRIORITARIOS'"
      ]
     },
     "execution_count": 14,
     "metadata": {},
     "output_type": "execute_result"
    }
   ],
   "source": [
    "os.getcwd()"
   ]
  },
  {
   "cell_type": "code",
   "execution_count": 17,
   "metadata": {},
   "outputs": [
    {
     "name": "stdout",
     "output_type": "stream",
     "text": [
      "{'AREA_OR_POINT': 'Area'}\n"
     ]
    }
   ],
   "source": [
    "with rasterio.open(\"Reclass_Mapbiomas2021-APM_PROFLORA.tif\") as src:\n",
    "    # bnd = rasterio.band(src, 1)\n",
    "    print(src.tags())"
   ]
  },
  {
   "cell_type": "code",
   "execution_count": 18,
   "metadata": {},
   "outputs": [],
   "source": [
    "src.close()"
   ]
  },
  {
   "cell_type": "code",
   "execution_count": 33,
   "metadata": {},
   "outputs": [],
   "source": [
    "def union(x):\n",
    "    return unary_union(x)\n",
    "\n",
    "with rx.open_rasterio(\"Reclass_Mapbiomas2021-APM_PROFLORA.tif\") as apm:\n",
    "    x, y, dn = apm.x.values, apm.y.values, apm.values\n",
    "    x, y = np.meshgrid(x, y)\n",
    "    x, y, dn = x.flatten(), y.flatten(), dn.flatten()\n",
    "\n",
    "    gdf_apm = gpd.GeoDataFrame.from_dict(\n",
    "        {\n",
    "            'DN':dn,\n",
    "            'x':x,\n",
    "            'y':y\n",
    "        }\n",
    "    )\n",
    "    gdf_apm\n",
    "    \n",
    "    geom_arr = []\n",
    " \n",
    "    apm_vector = gpd.GeoDataFrame(geometry=gpd.GeoSeries.from_xy(gdf_apm['x'], gdf_apm['y'], crs=apm.rio.crs))\n",
    "\n",
    "    # Converting GeoSeries to list of geometries\n",
    "    geoms = list(apm_vector)\n",
    " \n",
    "    # Converting geometries list to nested list of geometries\n",
    "    for i in range(0, len(geoms), 10000):\n",
    "        geom_arr.append(geoms[i:i+10000])\n",
    " \n",
    "    # Creating multiprocessing pool to perform union operation of chunks of geometries\n",
    "    with Pool(cpu_count()) as p:\n",
    "        geom_union = p.map(union, geom_arr)\n",
    " \n",
    "    # Perform union operation on returned unioned geometries\n",
    "    total_union = unary_union(geom_union)\n",
    " \n",
    "    # Creating GeoDataFrame for total_union\n",
    "    union_vector_gdf = gpd.GeoDataFrame(geometry=gpd.GeoSeries(total_union))"
   ]
  },
  {
   "cell_type": "code",
   "execution_count": null,
   "metadata": {},
   "outputs": [],
   "source": [
    "union_vector_gdf"
   ]
  },
  {
   "cell_type": "code",
   "execution_count": 30,
   "metadata": {},
   "outputs": [
    {
     "data": {
      "text/html": [
       "<div>\n",
       "<style scoped>\n",
       "    .dataframe tbody tr th:only-of-type {\n",
       "        vertical-align: middle;\n",
       "    }\n",
       "\n",
       "    .dataframe tbody tr th {\n",
       "        vertical-align: top;\n",
       "    }\n",
       "\n",
       "    .dataframe thead th {\n",
       "        text-align: right;\n",
       "    }\n",
       "</style>\n",
       "<table border=\"1\" class=\"dataframe\">\n",
       "  <thead>\n",
       "    <tr style=\"text-align: right;\">\n",
       "      <th></th>\n",
       "      <th>geometry</th>\n",
       "    </tr>\n",
       "  </thead>\n",
       "  <tbody>\n",
       "    <tr>\n",
       "      <th>0</th>\n",
       "      <td>POINT (151290.000 8284800.000)</td>\n",
       "    </tr>\n",
       "    <tr>\n",
       "      <th>1</th>\n",
       "      <td>POINT (151320.000 8284800.000)</td>\n",
       "    </tr>\n",
       "    <tr>\n",
       "      <th>2</th>\n",
       "      <td>POINT (151350.000 8284800.000)</td>\n",
       "    </tr>\n",
       "    <tr>\n",
       "      <th>3</th>\n",
       "      <td>POINT (151380.000 8284800.000)</td>\n",
       "    </tr>\n",
       "    <tr>\n",
       "      <th>4</th>\n",
       "      <td>POINT (151410.000 8284800.000)</td>\n",
       "    </tr>\n",
       "    <tr>\n",
       "      <th>...</th>\n",
       "      <td>...</td>\n",
       "    </tr>\n",
       "    <tr>\n",
       "      <th>5773307</th>\n",
       "      <td>POINT (235710.000 8223390.000)</td>\n",
       "    </tr>\n",
       "    <tr>\n",
       "      <th>5773308</th>\n",
       "      <td>POINT (235740.000 8223390.000)</td>\n",
       "    </tr>\n",
       "    <tr>\n",
       "      <th>5773309</th>\n",
       "      <td>POINT (235770.000 8223390.000)</td>\n",
       "    </tr>\n",
       "    <tr>\n",
       "      <th>5773310</th>\n",
       "      <td>POINT (235800.000 8223390.000)</td>\n",
       "    </tr>\n",
       "    <tr>\n",
       "      <th>5773311</th>\n",
       "      <td>POINT (235830.000 8223390.000)</td>\n",
       "    </tr>\n",
       "  </tbody>\n",
       "</table>\n",
       "<p>5773312 rows × 1 columns</p>\n",
       "</div>"
      ],
      "text/plain": [
       "                               geometry\n",
       "0        POINT (151290.000 8284800.000)\n",
       "1        POINT (151320.000 8284800.000)\n",
       "2        POINT (151350.000 8284800.000)\n",
       "3        POINT (151380.000 8284800.000)\n",
       "4        POINT (151410.000 8284800.000)\n",
       "...                                 ...\n",
       "5773307  POINT (235710.000 8223390.000)\n",
       "5773308  POINT (235740.000 8223390.000)\n",
       "5773309  POINT (235770.000 8223390.000)\n",
       "5773310  POINT (235800.000 8223390.000)\n",
       "5773311  POINT (235830.000 8223390.000)\n",
       "\n",
       "[5773312 rows x 1 columns]"
      ]
     },
     "execution_count": 30,
     "metadata": {},
     "output_type": "execute_result"
    }
   ],
   "source": [
    "apm_vector"
   ]
  }
 ],
 "metadata": {
  "kernelspec": {
   "display_name": "geo_py39",
   "language": "python",
   "name": "python3"
  },
  "language_info": {
   "codemirror_mode": {
    "name": "ipython",
    "version": 3
   },
   "file_extension": ".py",
   "mimetype": "text/x-python",
   "name": "python",
   "nbconvert_exporter": "python",
   "pygments_lexer": "ipython3",
   "version": "3.9.16"
  },
  "orig_nbformat": 4
 },
 "nbformat": 4,
 "nbformat_minor": 2
}
