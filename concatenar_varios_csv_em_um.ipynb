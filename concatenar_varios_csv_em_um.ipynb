{
 "cells": [
  {
   "cell_type": "code",
   "execution_count": 1,
   "metadata": {},
   "outputs": [],
   "source": [
    "import os\n",
    "import glob\n",
    "import pandas as pd"
   ]
  },
  {
   "cell_type": "code",
   "execution_count": 2,
   "metadata": {},
   "outputs": [],
   "source": [
    "\"\"\"\n",
    "Importante: Os diretórios, in e out são baseados no mapeamento da máquina onde estão os dados!\n",
    "Caso queira adaptar, é importante verificar a possibilidade de mudar essas variáveis e o código abaixo\n",
    "de mudança de pasta. \n",
    "\"\"\"\n",
    "os.chdir('../../DADOS/TAB/PROFLORA_CORRIGIDO/') #Retorna duas bastas."
   ]
  },
  {
   "cell_type": "code",
   "execution_count": 3,
   "metadata": {},
   "outputs": [],
   "source": [
    "#Arquivos que serão concatenados\n",
    "files = glob.glob(os.getcwd() + '\\*.csv')"
   ]
  },
  {
   "cell_type": "code",
   "execution_count": null,
   "metadata": {},
   "outputs": [],
   "source": [
    "#Dataframe vazio\n",
    "df = pd.DataFrame()\n",
    "\n",
    "for f in files:\n",
    "    ano = f[-12:-8] #pegar ano\n",
    "    dados_csv = pd.read_table(f, sep=\",\", encoding='latin') #carregar dados em um df\n",
    "    dados_csv['Ano'] = ano #adicionar o ano em cada arquivo df\n",
    "    df = pd.concat([df, dados_csv], axis=0) #concatenar/preencher o df vazio com os carregados\n",
    "\n",
    "#Converter a coluna Ano em um numero inteiro\n",
    "df['Ano'] = df['Ano'].astype('int')\n",
    "#Salver em excel\n",
    "df.to_excel(\n",
    "    \"Reclass_Mapbiomas_APM_Geral.xlsx\",\n",
    "    sheet_name=\"Geral\",\n",
    "    index=False)\n"
   ]
  }
 ],
 "metadata": {
  "kernelspec": {
   "display_name": "geo_py39",
   "language": "python",
   "name": "python3"
  },
  "language_info": {
   "codemirror_mode": {
    "name": "ipython",
    "version": 3
   },
   "file_extension": ".py",
   "mimetype": "text/x-python",
   "name": "python",
   "nbconvert_exporter": "python",
   "pygments_lexer": "ipython3",
   "version": "3.9.16"
  },
  "orig_nbformat": 4
 },
 "nbformat": 4,
 "nbformat_minor": 2
}
