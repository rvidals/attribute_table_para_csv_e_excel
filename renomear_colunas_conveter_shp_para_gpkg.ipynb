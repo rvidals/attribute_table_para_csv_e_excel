{
 "cells": [
  {
   "cell_type": "code",
   "execution_count": 1,
   "metadata": {},
   "outputs": [],
   "source": [
    "#Bibliotecas\n",
    "import os\n",
    "import glob\n",
    "import geopandas as gpd"
   ]
  },
  {
   "cell_type": "code",
   "execution_count": 2,
   "metadata": {},
   "outputs": [],
   "source": [
    "\"\"\"\n",
    "Importante: Os diretórios, in e out são baseados no mapeamento da máquina onde estão os dados!\n",
    "Caso queira adaptar, é importante verificar a possibilidade de mudar essas variáveis e o código abaixo\n",
    "de mudança de pasta. \n",
    "\"\"\"\n",
    "os.chdir('../..') #Retorna duas bastas."
   ]
  },
  {
   "cell_type": "code",
   "execution_count": 3,
   "metadata": {},
   "outputs": [],
   "source": [
    "#Caminho do arquivo\n",
    "path = os.path.join(os.getcwd(),r'DADOS\\SHP\\APM')"
   ]
  },
  {
   "cell_type": "code",
   "execution_count": null,
   "metadata": {},
   "outputs": [],
   "source": [
    "path"
   ]
  },
  {
   "cell_type": "code",
   "execution_count": 4,
   "metadata": {},
   "outputs": [],
   "source": [
    "file = glob.glob(path + r'\\area_de_protecao_de_manancial.shp')"
   ]
  },
  {
   "cell_type": "code",
   "execution_count": 5,
   "metadata": {},
   "outputs": [],
   "source": [
    "#Carregando o shp em um geodataframe\n",
    "gdf_apm = gpd.read_file(file[0])"
   ]
  },
  {
   "cell_type": "code",
   "execution_count": 6,
   "metadata": {},
   "outputs": [
    {
     "name": "stdout",
     "output_type": "stream",
     "text": [
      "<class 'geopandas.geodataframe.GeoDataFrame'>\n",
      "RangeIndex: 26 entries, 0 to 25\n",
      "Data columns (total 29 columns):\n",
      " #   Column    Non-Null Count  Dtype   \n",
      "---  ------    --------------  -----   \n",
      " 0   nome      26 non-null     object  \n",
      " 1   area_m2   26 non-null     float64 \n",
      " 2   area_ha   26 non-null     float64 \n",
      " 3   per_Km    26 non-null     float64 \n",
      " 4   a1        22 non-null     object  \n",
      " 5   a2        22 non-null     object  \n",
      " 6   a3        4 non-null      object  \n",
      " 7   a4        4 non-null      object  \n",
      " 8   a5        26 non-null     int64   \n",
      " 9   a6        19 non-null     float64 \n",
      " 10  a7        26 non-null     int64   \n",
      " 11  a8        1 non-null      float64 \n",
      " 12  a9        26 non-null     int64   \n",
      " 13  a10       12 non-null     float64 \n",
      " 14  a11       26 non-null     int64   \n",
      " 15  a12       12 non-null     float64 \n",
      " 16  a13       26 non-null     int64   \n",
      " 17  a14       19 non-null     float64 \n",
      " 18  a15       26 non-null     int64   \n",
      " 19  a16       26 non-null     float64 \n",
      " 20  a17       26 non-null     int64   \n",
      " 21  a18       26 non-null     float64 \n",
      " 22  a19       4 non-null      object  \n",
      " 23  a20       4 non-null      object  \n",
      " 24  a21       4 non-null      object  \n",
      " 25  a22       4 non-null      object  \n",
      " 26  a23       11 non-null     float64 \n",
      " 27  a24       26 non-null     int64   \n",
      " 28  geometry  26 non-null     geometry\n",
      "dtypes: float64(11), geometry(1), int64(8), object(9)\n",
      "memory usage: 6.0+ KB\n"
     ]
    }
   ],
   "source": [
    "gdf_apm.info()"
   ]
  },
  {
   "cell_type": "code",
   "execution_count": null,
   "metadata": {},
   "outputs": [],
   "source": [
    "#Dicionário que será renomeado\n",
    "dict_rename = {\n",
    "    'per_Km':'perimetro_km',\n",
    "    'a1':'i_uc_apm_a',\n",
    "    'a2':'i_uc_apm_%',\n",
    "    'a3':'i_ass_apm_a',\n",
    "    'a4':'i_ass_apm_%',\n",
    "    'a5':'i_seagri_ca_apm_n',\n",
    "    'a6':'i_seagri_ca_apm_a',\n",
    "    'a7':'i_seagri_ce_apm_n',\n",
    "    'a8':'i_seagri_ce_apm_a',\n",
    "    'a9':'i_seagri_co_apm_n',\n",
    "    'a10':'i_seagri_co_apm_a',\n",
    "    'a11':'i_seagri_re_apm_n',\n",
    "    'a12':'i_seagri_re_apm_a',\n",
    "    'a13':'i_seagri_to_apm_n',\n",
    "    'a14':'i_seagri_to_apm_a',\n",
    "    'a15':'i_outor_sup_n',\n",
    "    'a16':'i_outor_sup_sum_v',\n",
    "    'a17':'i_outor_sub_n',\n",
    "    'a18':'i_outor_sub_sum_v',\n",
    "    'a19':'i_aris_apm_a',\n",
    "    'a20':'i_aris_apm_%',\n",
    "    'a21':'i_arine_apm_a',\n",
    "    'a22':'i_arine_apm_%',\n",
    "    'a23':'i_cmurund_apm_a',\n",
    "    'a24':'i_cmurund_apm_c'\n",
    "}"
   ]
  },
  {
   "cell_type": "code",
   "execution_count": null,
   "metadata": {},
   "outputs": [],
   "source": [
    "#Renomear colunas\n",
    "gdf_apm = gdf_apm.rename(\n",
    "    dict_rename,\n",
    "    axis='columns')"
   ]
  },
  {
   "cell_type": "code",
   "execution_count": null,
   "metadata": {},
   "outputs": [],
   "source": [
    "#Conveter para geopacket\n",
    "#Vantagens: Shapefile tem uma limitação de 10 caracteres para o nome dos atributos/colunas\n",
    "#GPKG não tem esse limite!\n",
    "nm_file = 'area_de_protecao_de_manancial'\n",
    "gdf_apm.to_file(path + f'\\{nm_file}.gpkg')"
   ]
  }
 ],
 "metadata": {
  "kernelspec": {
   "display_name": "geo_py39",
   "language": "python",
   "name": "python3"
  },
  "language_info": {
   "codemirror_mode": {
    "name": "ipython",
    "version": 3
   },
   "file_extension": ".py",
   "mimetype": "text/x-python",
   "name": "python",
   "nbconvert_exporter": "python",
   "pygments_lexer": "ipython3",
   "version": "3.9.16"
  },
  "orig_nbformat": 4
 },
 "nbformat": 4,
 "nbformat_minor": 2
}
