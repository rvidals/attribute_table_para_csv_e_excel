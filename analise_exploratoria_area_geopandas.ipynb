{
 "cells": [
  {
   "cell_type": "code",
   "execution_count": 1,
   "metadata": {},
   "outputs": [],
   "source": [
    "import os\n",
    "import glob\n",
    "import pandas as pd\n",
    "import geopandas as gpd"
   ]
  },
  {
   "cell_type": "code",
   "execution_count": 2,
   "metadata": {},
   "outputs": [],
   "source": [
    "\"\"\"\n",
    "Importante: Os diretórios, in e out são baseados no mapeamento da máquina onde estão os dados!\n",
    "Caso queira adaptar, é importante verificar a possibilidade de mudar essas variáveis e o código abaixo\n",
    "de mudança de pasta. \n",
    "\"\"\"\n",
    "os.chdir('../..') #Retorna duas bastas."
   ]
  },
  {
   "cell_type": "code",
   "execution_count": 3,
   "metadata": {},
   "outputs": [],
   "source": [
    "path_in = os.path.join(os.getcwd(),r'DADOS\\SHP\\PROCESSAMENTOS_MAPBIOMAS - PROFLORA CORRIGIDO\\7_METRICAS SIMPLES - PROFLORA CORRIGIDO')"
   ]
  },
  {
   "cell_type": "code",
   "execution_count": 4,
   "metadata": {},
   "outputs": [],
   "source": [
    "#Chegar se a pasta PROFLORA_CORRIGIDO existe ou não. Caso contrário, cria a pasta.\n",
    "if not os.path.exists(r'DADOS\\TAB\\PROFLORA_CORRIGIDO'):\n",
    "    os.makedirs(r'DADOS\\TAB\\PROFLORA_CORRIGIDO')\n",
    "\n",
    "path_out = os.path.join(os.getcwd(),r'DADOS\\TAB\\PROFLORA_CORRIGIDO')"
   ]
  },
  {
   "cell_type": "code",
   "execution_count": 5,
   "metadata": {},
   "outputs": [],
   "source": [
    "files = glob.glob(path_in + '\\*.shp')"
   ]
  },
  {
   "cell_type": "code",
   "execution_count": 6,
   "metadata": {},
   "outputs": [],
   "source": [
    "gdf1 = gpd.read_file(files[0])"
   ]
  },
  {
   "cell_type": "code",
   "execution_count": 7,
   "metadata": {},
   "outputs": [],
   "source": [
    "def legenda(df):\n",
    "\n",
    "    if df['DN'] == 1:\n",
    "        return '1 - Formação Florestal'\n",
    "    elif df['DN'] == 2:\n",
    "        return '2 - Formação Savânica'\n",
    "    elif df['DN'] == 3:\n",
    "        return '3 - Campo Alagado e Área Pantanosa'\n",
    "    elif df['DN'] == 4:\n",
    "        return '4 - Formação Campestre'\n",
    "    elif df['DN'] == 5:\n",
    "        return '5 - Afloramento Rochoso'\n",
    "    elif df['DN'] == 6:\n",
    "       return '6 - Pastagem'\n",
    "    elif df['DN'] == 7:\n",
    "        return '7 - Agropecuária'\n",
    "    elif df['DN'] == 8:\n",
    "        return ' 8 - Silvicultura'\n",
    "    elif df['DN'] == 9:\n",
    "        return '9 - Mosaico de Usos'\n",
    "    elif df['DN'] == 10:\n",
    "        return '10 - Área Urbanizada'\n",
    "    elif df['DN'] == 11:\n",
    "       return '11 - Mineração'\n",
    "    elif df['DN'] == 12:\n",
    "        return '12 - Outras Áreas não Vegetadas'\n",
    "    else:\n",
    "        return '13 - Rio, Lago e Oceano'"
   ]
  },
  {
   "cell_type": "code",
   "execution_count": 8,
   "metadata": {},
   "outputs": [],
   "source": [
    "for file in files:\n",
    "    #Pegar o nome do arquivo\n",
    "    nm_arquivo = os.path.basename(file).split('.')[0]\n",
    "\n",
    "    #Ler o shp e transformar em um geodf\n",
    "    gdf = gpd.read_file(file)\n",
    "    \n",
    "    #Calcular área m2 e perímetro\n",
    "    gdf['area_m2'] = gdf.area\n",
    "    gdf['perimetro'] = gdf.length\n",
    "\n",
    "    gdf['legenda'] = gdf.apply(legenda, axis=1)\n",
    "    #Salvar o arquivo shp com as métricas calculadas\n",
    "    gdf.to_file(\n",
    "        os.path.join(\n",
    "            os.getcwd(),r'DADOS\\SHP\\PROCESSAMENTOS_MAPBIOMAS - PROFLORA CORRIGIDO\\6_METRICAS SIMPLES') + f'\\{nm_arquivo}.shp'\n",
    "    )\n",
    "\n",
    "    #Transformar em um dataframe e dropar a coluna geometry\n",
    "    df = pd.DataFrame(gdf.drop(columns='geometry'))\n",
    "\n",
    "    #Agrupar as colunas DN, nome e legenda e resetar o index\n",
    "    df2 = df.groupby(['DN','nome','legenda']).sum(['area_m2','perimetro']).reset_index()\n",
    "\n",
    "    #Ordenar pela Área de Proteção Ambiental\n",
    "    df2 = df2.sort_values(by=['nome','legenda'])\n",
    "\n",
    "    #Criar a coluna Classificação\n",
    "    df2['Classificação'] = df2['legenda'].astype(str)\n",
    "\n",
    "    #Ordenar as colunas\n",
    "    df2 = df2[[ \n",
    "                'nome',\n",
    "                'Classificação',\n",
    "                'area_m2',\n",
    "                'perimetro'\n",
    "            ]]\n",
    "    \n",
    "    #Renomear as colunas\n",
    "    df2 = df2.rename({\n",
    "                        'nome':'Nome',\n",
    "                        'area_m2':'Área (m²)',\n",
    "                        'perimetro':'Perímetro'\n",
    "                },\n",
    "                axis='columns'\n",
    "                )\n",
    "\n",
    "    #Salvar em csv\n",
    "    df2.to_csv(path_out + f'\\{nm_arquivo}.csv',\n",
    "               encoding='latin',\n",
    "               index=False)\n",
    "    "
   ]
  }
 ],
 "metadata": {
  "kernelspec": {
   "display_name": "geo_py39",
   "language": "python",
   "name": "python3"
  },
  "language_info": {
   "codemirror_mode": {
    "name": "ipython",
    "version": 3
   },
   "file_extension": ".py",
   "mimetype": "text/x-python",
   "name": "python",
   "nbconvert_exporter": "python",
   "pygments_lexer": "ipython3",
   "version": "3.9.16"
  },
  "orig_nbformat": 4
 },
 "nbformat": 4,
 "nbformat_minor": 2
}
