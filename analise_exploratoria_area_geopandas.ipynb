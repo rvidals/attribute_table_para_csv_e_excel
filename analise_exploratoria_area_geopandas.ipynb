{
 "cells": [
  {
   "cell_type": "code",
   "execution_count": 1,
   "metadata": {},
   "outputs": [],
   "source": [
    "import os\n",
    "import glob\n",
    "import pandas as pd\n",
    "import geopandas as gpd\n",
    "import numpy as np"
   ]
  },
  {
   "cell_type": "code",
   "execution_count": 2,
   "metadata": {},
   "outputs": [],
   "source": [
    "\"\"\"\n",
    "Importante: Os diretórios, in e out são baseados no mapeamento da máquina onde estão os dados!\n",
    "Caso queira adaptar, é importante verificar a possibilidade de mudar essas variáveis e o código abaixo\n",
    "de mudança de pasta. \n",
    "\"\"\"\n",
    "os.chdir('../..') #Retorna duas bastas."
   ]
  },
  {
   "cell_type": "code",
   "execution_count": 3,
   "metadata": {},
   "outputs": [],
   "source": [
    "path_in = os.path.join(os.getcwd(),r'DADOS\\SHP\\METRICAS SIMPLES')"
   ]
  },
  {
   "cell_type": "code",
   "execution_count": null,
   "metadata": {},
   "outputs": [],
   "source": [
    "path_out = os.path.join(os.getcwd(),r'DADOS\\TESTE')"
   ]
  },
  {
   "cell_type": "code",
   "execution_count": 5,
   "metadata": {},
   "outputs": [],
   "source": [
    "files = glob.glob(path_in + '\\*.shp')"
   ]
  },
  {
   "cell_type": "code",
   "execution_count": 27,
   "metadata": {},
   "outputs": [],
   "source": [
    "for file in files:\n",
    "    #Pegar o nome do arquivo\n",
    "    nm_arquivo = os.path.basename(file).split('.')[0]\n",
    "\n",
    "    #Ler o shp e transformar em um geodf\n",
    "    gdf = gpd.read_file(file)\n",
    "    \n",
    "    #Transformar em um dataframe e dropar a coluna geometry\n",
    "    df = pd.DataFrame(gdf.drop(columns='geometry'))\n",
    "\n",
    "    #Agrupar as colunas DN, nome e legenda e resetar o index\n",
    "    df2 = df.groupby(['DN','nome','legenda']).sum(['area_m2','perimetro']).reset_index()\n",
    "\n",
    "    #Ordenar pela Área de Proteção Ambiental\n",
    "    df2 = df2.sort_values(by=['nome'])\n",
    "\n",
    "    #Criar a coluna Classificação\n",
    "    df2['Classificação'] = df2['DN'].astype(str) + ' - ' + df2['legenda'].astype(str)\n",
    "\n",
    "    #Ordenar as colunas\n",
    "    df2 = df2[[ \n",
    "                'nome',\n",
    "                'Classificação',\n",
    "                'area_m2',\n",
    "                'perimetro'\n",
    "            ]]\n",
    "    \n",
    "    #Renomear as colunas\n",
    "    df2 = df2.rename({\n",
    "                        'nome':'Nome',\n",
    "                        'area_m2':'Área (m²)',\n",
    "                        'perimetro':'Perímetro'\n",
    "                },\n",
    "                axis='columns'\n",
    "                )\n",
    "\n",
    "    #Salvar em csv\n",
    "    df2.to_csv(path_out + f'\\{nm_arquivo}.csv',\n",
    "               encoding='latin',\n",
    "               index=False)\n",
    "    "
   ]
  }
 ],
 "metadata": {
  "kernelspec": {
   "display_name": "geo_py39",
   "language": "python",
   "name": "python3"
  },
  "language_info": {
   "codemirror_mode": {
    "name": "ipython",
    "version": 3
   },
   "file_extension": ".py",
   "mimetype": "text/x-python",
   "name": "python",
   "nbconvert_exporter": "python",
   "pygments_lexer": "ipython3",
   "version": "3.9.16"
  },
  "orig_nbformat": 4
 },
 "nbformat": 4,
 "nbformat_minor": 2
}
